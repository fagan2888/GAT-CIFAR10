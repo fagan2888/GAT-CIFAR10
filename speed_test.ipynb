{
 "cells": [
  {
   "cell_type": "code",
   "execution_count": 1,
   "metadata": {},
   "outputs": [],
   "source": [
    "import os\n",
    "import sys\n",
    "from datetime import datetime\n",
    "import numpy as np\n",
    "import matplotlib.pyplot as plt\n",
    "import tensorflow as tf\n",
    "import cifar10_input\n",
    "from pgd_attack import PGDAttackClassifier, PGDAttackDetector\n",
    "from model import Model, BayesClassifier\n",
    "from eval_utils import BaseDetectorFactory, batched_run, eps8_attack_config\n",
    "\n",
    "os.environ['TF_CPP_MIN_LOG_LEVEL'] = '3'  # or any {'0', '1', '2'}\n",
    "tf.logging.set_verbosity(tf.logging.ERROR)\n",
    "\n",
    "np.random.seed(123)\n"
   ]
  },
  {
   "cell_type": "code",
   "execution_count": 2,
   "metadata": {},
   "outputs": [],
   "source": [
    "robust_classifier = Model(mode='eval', var_scope='classifier')\n",
    "classifier_vars = tf.get_collection(tf.GraphKeys.GLOBAL_VARIABLES,\n",
    "                                    scope='classifier')\n",
    "classifier_saver = tf.train.Saver(var_list=classifier_vars)\n",
    "classifier_checkpoint = 'models/adv_trained_prefixed_classifier/checkpoint-70000'\n",
    "\n",
    "factory = BaseDetectorFactory()\n",
    "\n",
    "cifar = cifar10_input.CIFAR10Data('cifar10_data')\n",
    "\n",
    "num_eval_examples = 10000\n",
    "eval_data = cifar.eval_data\n",
    "x_test = eval_data.xs.astype(np.float32)[:num_eval_examples]\n",
    "y_test = eval_data.ys.astype(np.int32)[:num_eval_examples]"
   ]
  },
  {
   "cell_type": "code",
   "execution_count": 3,
   "metadata": {},
   "outputs": [],
   "source": [
    "sess = tf.Session()"
   ]
  },
  {
   "cell_type": "code",
   "execution_count": 4,
   "metadata": {},
   "outputs": [],
   "source": [
    "classifier_saver.restore(sess, classifier_checkpoint)\n",
    "factory.restore_base_detectors(sess)\n",
    "\n",
    "base_detectors = factory.get_base_detectors()\n",
    "bayes_classifier = BayesClassifier(base_detectors)"
   ]
  },
  {
   "cell_type": "code",
   "execution_count": 5,
   "metadata": {},
   "outputs": [
    {
     "name": "stdout",
     "output_type": "stream",
     "text": [
      "683 ms ± 6.76 ms per loop (mean ± std. dev. of 7 runs, 1 loop each)\n"
     ]
    }
   ],
   "source": [
    "grad1 = tf.gradients(robust_classifier.xent, robust_classifier.x_input)[0]\n",
    "%timeit sess.run(grad1, feed_dict={robust_classifier.x_input: x_test[:128], \\\n",
    "                                   robust_classifier.y_input: y_test[:128]})"
   ]
  },
  {
   "cell_type": "code",
   "execution_count": 6,
   "metadata": {},
   "outputs": [
    {
     "name": "stdout",
     "output_type": "stream",
     "text": [
      "1.85 s ± 42.7 ms per loop (mean ± std. dev. of 7 runs, 1 loop each)\n"
     ]
    }
   ],
   "source": [
    "\n",
    "grad2 = tf.gradients(bayes_classifier.xent, bayes_classifier.x_input)[0]\n",
    "%timeit sess.run(grad2, feed_dict={bayes_classifier.x_input: x_test[:30], \\\n",
    "                                   bayes_classifier.y_input: y_test[:30]})"
   ]
  },
  {
   "cell_type": "code",
   "execution_count": 7,
   "metadata": {},
   "outputs": [
    {
     "name": "stdout",
     "output_type": "stream",
     "text": [
      "2.09 s ± 35.6 ms per loop (mean ± std. dev. of 7 runs, 1 loop each)\n"
     ]
    }
   ],
   "source": [
    "%timeit sess.run(robust_classifier.predictions, feed_dict={robust_classifier.x_input: x_test[:1000], \\\n",
    "                                                           robust_classifier.y_input: y_test[:1000]})"
   ]
  },
  {
   "cell_type": "code",
   "execution_count": 8,
   "metadata": {},
   "outputs": [
    {
     "name": "stdout",
     "output_type": "stream",
     "text": [
      "19.7 s ± 154 ms per loop (mean ± std. dev. of 7 runs, 1 loop each)\n"
     ]
    }
   ],
   "source": [
    "%timeit sess.run(bayes_classifier.predictions, feed_dict={bayes_classifier.x_input: x_test[:1000], \\\n",
    "                                                           bayes_classifier.y_input: y_test[:1000]})"
   ]
  },
  {
   "cell_type": "code",
   "execution_count": 9,
   "metadata": {},
   "outputs": [
    {
     "data": {
      "text/plain": [
       "0.873"
      ]
     },
     "execution_count": 9,
     "metadata": {},
     "output_type": "execute_result"
    }
   ],
   "source": [
    "sess.run(robust_classifier.accuracy, feed_dict={robust_classifier.x_input: x_test[:1000], \\\n",
    "                                                           robust_classifier.y_input: y_test[:1000]})"
   ]
  },
  {
   "cell_type": "code",
   "execution_count": 10,
   "metadata": {},
   "outputs": [
    {
     "data": {
      "text/plain": [
       "0.877"
      ]
     },
     "execution_count": 10,
     "metadata": {},
     "output_type": "execute_result"
    }
   ],
   "source": [
    "sess.run(bayes_classifier.accuracy, feed_dict={bayes_classifier.x_input: x_test[:1000], \\\n",
    "                                                           bayes_classifier.y_input: y_test[:1000]})"
   ]
  },
  {
   "cell_type": "code",
   "execution_count": null,
   "metadata": {},
   "outputs": [],
   "source": []
  }
 ],
 "metadata": {
  "kernelspec": {
   "display_name": "tensorflow",
   "language": "python",
   "name": "tensorflow"
  },
  "language_info": {
   "codemirror_mode": {
    "name": "ipython",
    "version": 3
   },
   "file_extension": ".py",
   "mimetype": "text/x-python",
   "name": "python",
   "nbconvert_exporter": "python",
   "pygments_lexer": "ipython3",
   "version": "3.6.5"
  }
 },
 "nbformat": 4,
 "nbformat_minor": 2
}
